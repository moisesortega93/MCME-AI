{
  "nbformat": 4,
  "nbformat_minor": 0,
  "metadata": {
    "colab": {
      "name": "Recommenders_and_clustering_ESP.ipynb",
      "provenance": [],
      "include_colab_link": true
    },
    "kernelspec": {
      "name": "python3",
      "display_name": "Python 3"
    }
  },
  "cells": [
    {
      "cell_type": "markdown",
      "metadata": {
        "id": "view-in-github",
        "colab_type": "text"
      },
      "source": [
        "<a href=\"https://colab.research.google.com/github/moisesortega93/MCME-AI/blob/main/Recommenders_and_clustering_ESP.ipynb\" target=\"_parent\"><img src=\"https://colab.research.google.com/assets/colab-badge.svg\" alt=\"Open In Colab\"/></a>"
      ]
    },
    {
      "cell_type": "markdown",
      "metadata": {
        "id": "ZOana4Fo5ay9"
      },
      "source": [
        "# **PEC1: Recomendadores y agrupación:**\n",
        "\n",
        "Este archivo de cuaderno interactivo de jupyter le ayudará a comenzar con las operaciones básicas necesarias para resolver los ejercicios del PEC. Utilice este archivo para proporcionar una solución a los ejercicios (tanto el código como los comentarios escritos). Agregue tantas celdas de código y de texto como necesite para resolver todos los ejercicios. Asegúrate de que el archivo se puede ejecutar completamente antes de cargarlo para su entrega."
      ]
    },
    {
      "cell_type": "markdown",
      "metadata": {
        "id": "HIaaM2JA3KNd"
      },
      "source": [
        "### Instalar las librerías suprise en google colab:"
      ]
    },
    {
      "cell_type": "code",
      "metadata": {
        "id": "Wz8OWzk23Np4",
        "colab": {
          "base_uri": "https://localhost:8080/"
        },
        "outputId": "333886ed-fa1b-4d41-b8d5-bb483fe2e052"
      },
      "source": [
        "!pip install scikit-surprise\r\n",
        "\r\n",
        "import surprise"
      ],
      "execution_count": 50,
      "outputs": [
        {
          "output_type": "stream",
          "text": [
            "Requirement already satisfied: scikit-surprise in /usr/local/lib/python3.7/dist-packages (1.1.1)\n",
            "Requirement already satisfied: six>=1.10.0 in /usr/local/lib/python3.7/dist-packages (from scikit-surprise) (1.15.0)\n",
            "Requirement already satisfied: numpy>=1.11.2 in /usr/local/lib/python3.7/dist-packages (from scikit-surprise) (1.19.5)\n",
            "Requirement already satisfied: scipy>=1.0.0 in /usr/local/lib/python3.7/dist-packages (from scikit-surprise) (1.4.1)\n",
            "Requirement already satisfied: joblib>=0.11 in /usr/local/lib/python3.7/dist-packages (from scikit-surprise) (1.0.1)\n"
          ],
          "name": "stdout"
        }
      ]
    },
    {
      "cell_type": "markdown",
      "metadata": {
        "id": "mpZd1kWV5-fc"
      },
      "source": [
        "## **Ejercicio 1: Manipulación de datos con surprise and Pandas:**\n",
        "\n",
        "Este primer ejercicio es para familiarizarse con el conjunto de datos de Jester y cómo realizar la manipulación básica de datos usando Pandas.\n"
      ]
    },
    {
      "cell_type": "markdown",
      "metadata": {
        "id": "21oHTaYA3DxS"
      },
      "source": [
        "a) Cargar la base de datos Jester desde el surprise dataset"
      ]
    },
    {
      "cell_type": "code",
      "metadata": {
        "id": "-h7I2CKT2_Ie"
      },
      "source": [
        "from surprise import Dataset\n",
        "\n",
        "data = Dataset.load_builtin('jester')\n"
      ],
      "execution_count": 43,
      "outputs": []
    },
    {
      "cell_type": "markdown",
      "metadata": {
        "id": "JK6JF_hi3QnT"
      },
      "source": [
        "Convertir los datos a un Pandas dataframe"
      ]
    },
    {
      "cell_type": "code",
      "metadata": {
        "id": "EXNQy2o2Gpcj",
        "colab": {
          "base_uri": "https://localhost:8080/",
          "height": 166
        },
        "outputId": "a402df61-fc2b-491b-d094-59589d2bed74"
      },
      "source": [
        "print(data.__dict__())"
      ],
      "execution_count": null,
      "outputs": [
        {
          "output_type": "error",
          "ename": "TypeError",
          "evalue": "ignored",
          "traceback": [
            "\u001b[0;31m---------------------------------------------------------------------------\u001b[0m",
            "\u001b[0;31mTypeError\u001b[0m                                 Traceback (most recent call last)",
            "\u001b[0;32m<ipython-input-17-e57ca2baca80>\u001b[0m in \u001b[0;36m<module>\u001b[0;34m()\u001b[0m\n\u001b[0;32m----> 1\u001b[0;31m \u001b[0mprint\u001b[0m\u001b[0;34m(\u001b[0m\u001b[0mdata\u001b[0m\u001b[0;34m.\u001b[0m\u001b[0m__dict__\u001b[0m\u001b[0;34m(\u001b[0m\u001b[0;34m)\u001b[0m\u001b[0;34m)\u001b[0m\u001b[0;34m\u001b[0m\u001b[0;34m\u001b[0m\u001b[0m\n\u001b[0m",
            "\u001b[0;31mTypeError\u001b[0m: 'dict' object is not callable"
          ]
        }
      ]
    },
    {
      "cell_type": "code",
      "metadata": {
        "id": "vqywQibj3UZQ",
        "colab": {
          "base_uri": "https://localhost:8080/"
        },
        "outputId": "c3d9a655-91af-47d2-d88a-e72175d79552"
      },
      "source": [
        "import pandas as pd\n",
        "df = pd.DataFrame(data.__dict__['raw_ratings'], columns=['user_id', 'item_id', 'rating', 'timestamp'])\n",
        "print(df.shape)"
      ],
      "execution_count": 42,
      "outputs": [
        {
          "output_type": "stream",
          "text": [
            "(1761439, 4)\n"
          ],
          "name": "stdout"
        }
      ]
    },
    {
      "cell_type": "markdown",
      "metadata": {
        "id": "W8blmb-f3Y1k"
      },
      "source": [
        "Realizar inspección y manipulación básica de los datos:"
      ]
    },
    {
      "cell_type": "markdown",
      "metadata": {
        "id": "8Jc-xVkm3oZ9"
      },
      "source": [
        "Enumere las 10 primeras entradas del conjunto de datos:\n"
      ]
    },
    {
      "cell_type": "code",
      "metadata": {
        "id": "eZGcdB2X3b7F",
        "colab": {
          "base_uri": "https://localhost:8080/",
          "height": 355
        },
        "outputId": "486a18ac-f149-495e-af1f-0552cba0feec"
      },
      "source": [
        "df.head(10) "
      ],
      "execution_count": null,
      "outputs": [
        {
          "output_type": "execute_result",
          "data": {
            "text/html": [
              "<div>\n",
              "<style scoped>\n",
              "    .dataframe tbody tr th:only-of-type {\n",
              "        vertical-align: middle;\n",
              "    }\n",
              "\n",
              "    .dataframe tbody tr th {\n",
              "        vertical-align: top;\n",
              "    }\n",
              "\n",
              "    .dataframe thead th {\n",
              "        text-align: right;\n",
              "    }\n",
              "</style>\n",
              "<table border=\"1\" class=\"dataframe\">\n",
              "  <thead>\n",
              "    <tr style=\"text-align: right;\">\n",
              "      <th></th>\n",
              "      <th>user_id</th>\n",
              "      <th>item_id</th>\n",
              "      <th>rating</th>\n",
              "      <th>timestamp</th>\n",
              "    </tr>\n",
              "  </thead>\n",
              "  <tbody>\n",
              "    <tr>\n",
              "      <th>0</th>\n",
              "      <td>1</td>\n",
              "      <td>5</td>\n",
              "      <td>0.219</td>\n",
              "      <td>None</td>\n",
              "    </tr>\n",
              "    <tr>\n",
              "      <th>1</th>\n",
              "      <td>1</td>\n",
              "      <td>7</td>\n",
              "      <td>-9.281</td>\n",
              "      <td>None</td>\n",
              "    </tr>\n",
              "    <tr>\n",
              "      <th>2</th>\n",
              "      <td>1</td>\n",
              "      <td>8</td>\n",
              "      <td>-9.281</td>\n",
              "      <td>None</td>\n",
              "    </tr>\n",
              "    <tr>\n",
              "      <th>3</th>\n",
              "      <td>1</td>\n",
              "      <td>13</td>\n",
              "      <td>-6.781</td>\n",
              "      <td>None</td>\n",
              "    </tr>\n",
              "    <tr>\n",
              "      <th>4</th>\n",
              "      <td>1</td>\n",
              "      <td>15</td>\n",
              "      <td>0.875</td>\n",
              "      <td>None</td>\n",
              "    </tr>\n",
              "    <tr>\n",
              "      <th>5</th>\n",
              "      <td>1</td>\n",
              "      <td>16</td>\n",
              "      <td>-9.656</td>\n",
              "      <td>None</td>\n",
              "    </tr>\n",
              "    <tr>\n",
              "      <th>6</th>\n",
              "      <td>1</td>\n",
              "      <td>17</td>\n",
              "      <td>-9.031</td>\n",
              "      <td>None</td>\n",
              "    </tr>\n",
              "    <tr>\n",
              "      <th>7</th>\n",
              "      <td>1</td>\n",
              "      <td>18</td>\n",
              "      <td>-7.469</td>\n",
              "      <td>None</td>\n",
              "    </tr>\n",
              "    <tr>\n",
              "      <th>8</th>\n",
              "      <td>1</td>\n",
              "      <td>19</td>\n",
              "      <td>-8.719</td>\n",
              "      <td>None</td>\n",
              "    </tr>\n",
              "    <tr>\n",
              "      <th>9</th>\n",
              "      <td>1</td>\n",
              "      <td>20</td>\n",
              "      <td>-9.156</td>\n",
              "      <td>None</td>\n",
              "    </tr>\n",
              "  </tbody>\n",
              "</table>\n",
              "</div>"
            ],
            "text/plain": [
              "  user_id item_id  rating timestamp\n",
              "0       1       5   0.219      None\n",
              "1       1       7  -9.281      None\n",
              "2       1       8  -9.281      None\n",
              "3       1      13  -6.781      None\n",
              "4       1      15   0.875      None\n",
              "5       1      16  -9.656      None\n",
              "6       1      17  -9.031      None\n",
              "7       1      18  -7.469      None\n",
              "8       1      19  -8.719      None\n",
              "9       1      20  -9.156      None"
            ]
          },
          "metadata": {
            "tags": []
          },
          "execution_count": 5
        }
      ]
    },
    {
      "cell_type": "markdown",
      "metadata": {
        "id": "c_Sb17O93u_m"
      },
      "source": [
        "¿Cuántas entradas hay en el conjunto de datos?"
      ]
    },
    {
      "cell_type": "code",
      "metadata": {
        "id": "aM45Besw3iAC",
        "colab": {
          "base_uri": "https://localhost:8080/"
        },
        "outputId": "efde8c64-bde6-43f1-b6fc-ff09d2c853ce"
      },
      "source": [
        "df.shape[0] # 0: number of rows, 1: number of columns/variables\r\n",
        "len(df)\r\n",
        "df.__len__()"
      ],
      "execution_count": null,
      "outputs": [
        {
          "output_type": "execute_result",
          "data": {
            "text/plain": [
              "1761439"
            ]
          },
          "metadata": {
            "tags": []
          },
          "execution_count": 7
        }
      ]
    },
    {
      "cell_type": "markdown",
      "metadata": {
        "id": "SlaII0nh4BMu"
      },
      "source": [
        "¿Cuántos usuarios y chistes hay en la base de datos?"
      ]
    },
    {
      "cell_type": "code",
      "metadata": {
        "id": "T9iSf4hA38ze",
        "colab": {
          "base_uri": "https://localhost:8080/"
        },
        "outputId": "d89c032d-adf9-41e7-c8be-daeed8e10b82"
      },
      "source": [
        "print('Number of users:')\n",
        "df[\"user_id\"].nunique() # number of users\n",
        "len(df.groupby(['user_id']))"
      ],
      "execution_count": null,
      "outputs": [
        {
          "output_type": "stream",
          "text": [
            "Number of users:\n"
          ],
          "name": "stdout"
        },
        {
          "output_type": "execute_result",
          "data": {
            "text/plain": [
              "59132"
            ]
          },
          "metadata": {
            "tags": []
          },
          "execution_count": 33
        }
      ]
    },
    {
      "cell_type": "code",
      "metadata": {
        "id": "-n4_M_NV4vI1",
        "outputId": "df2a86a7-f97f-4799-a4e0-25d0e0659d2a",
        "colab": {
          "base_uri": "https://localhost:8080/"
        }
      },
      "source": [
        "print('Number of items:')\n",
        "df[\"item_id\"].nunique() # number of items\n",
        "len(df.groupby(['user_id']))"
      ],
      "execution_count": 41,
      "outputs": [
        {
          "output_type": "stream",
          "text": [
            "Number of items:\n"
          ],
          "name": "stdout"
        },
        {
          "output_type": "execute_result",
          "data": {
            "text/plain": [
              "59132"
            ]
          },
          "metadata": {
            "tags": []
          },
          "execution_count": 41
        }
      ]
    },
    {
      "cell_type": "markdown",
      "metadata": {
        "id": "kpzaiu3P4PiI"
      },
      "source": [
        "¿Cuál es la calificación del usuario con user_id = 1 de la chiste con item_id = 5?\n"
      ]
    },
    {
      "cell_type": "code",
      "metadata": {
        "id": "QOkiR0pa4Iw_",
        "colab": {
          "base_uri": "https://localhost:8080/"
        },
        "outputId": "ceedf0a3-3c79-45d9-dfff-9e17c517d359"
      },
      "source": [
        "df.loc[(df[\"user_id\"]=='1') & (df[\"item_id\"]=='5')]\r\n",
        "df.loc[(df[\"user_id\"]=='1') & (df[\"item_id\"]=='5'),\"rating\"].values[0]\r\n",
        "df.iloc[[i for i, x in enumerate((df[\"user_id\"]=='1') & (df[\"item_id\"]=='5')) if x], 2]\r\n",
        "name=1;\r\n",
        "print(\"La califación del user_id:\", name, \" es \", df.loc[(df[\"user_id\"]=='1') & (df[\"item_id\"]=='5'),\"rating\"].values[0], sep='')"
      ],
      "execution_count": 40,
      "outputs": [
        {
          "output_type": "stream",
          "text": [
            "La califación del user_id:1 es 0.219\n"
          ],
          "name": "stdout"
        }
      ]
    },
    {
      "cell_type": "markdown",
      "metadata": {
        "id": "JO79Ovxs4hy0"
      },
      "source": [
        "b) Filtrar el conjunto de datos:\n",
        "\n",
        "Filtre la base de datos manteniendo solo los elementos que hayan calificado al menos min_item_ratings usuarios y usuarios que hayan calificado al menos los elementos min_user_ratings:"
      ]
    },
    {
      "cell_type": "code",
      "metadata": {
        "id": "XnE8GHL_4X3Q",
        "colab": {
          "base_uri": "https://localhost:8080/"
        },
        "outputId": "05f1ffc4-8f01-4849-f8ce-3df6fa2c7f8d"
      },
      "source": [
        "min_item_ratings = 200\n",
        "filter_items = df['item_id'].value_counts() > min_item_ratings\n",
        "filter_items = filter_items[filter_items].index.tolist()\n",
        "\n",
        "min_user_ratings = 130\n",
        "filter_users = df['user_id'].value_counts() > min_user_ratings\n",
        "filter_users = filter_users[filter_users].index.tolist()\n",
        "\n",
        "df_small = df[(df['item_id'].isin(filter_items)) & (df['user_id'].isin(filter_users))]\n",
        "print('The original data frame shape:\\t{}'.format(df.shape))\n",
        "print('The new data frame shape:\\t{}'.format(df_small.shape))"
      ],
      "execution_count": 44,
      "outputs": [
        {
          "output_type": "stream",
          "text": [
            "The original data frame shape:\t(1761439, 4)\n",
            "The new data frame shape:\t(1325, 4)\n"
          ],
          "name": "stdout"
        }
      ]
    },
    {
      "cell_type": "markdown",
      "metadata": {
        "id": "41Xp8Gsz59w9"
      },
      "source": [
        "Convierta el marco de datos de nuevo a una variable surprise utilizando las funciones reader y load_from_df:\n",
        "\n",
        "https://surprise.readthedocs.io/en/stable/getting_started.html#use-a-custom-dataset"
      ]
    },
    {
      "cell_type": "code",
      "metadata": {
        "id": "oTSdIzL26Esu"
      },
      "source": [
        "from surprise import Reader \n",
        "reader = Reader(rating_scale=(-10, 10))\n",
        "data_small = Dataset.load_from_df(df_small[['user_id', 'item_id', 'rating']], reader)"
      ],
      "execution_count": 46,
      "outputs": []
    },
    {
      "cell_type": "markdown",
      "metadata": {
        "id": "K3WJuunz6cs9"
      },
      "source": [
        "Responde las siguientes preguntas:\n",
        "\n",
        "- ¿Cuántos usuarios y elementos hay en el conjunto de datos reducido?\n"
      ]
    },
    {
      "cell_type": "code",
      "metadata": {
        "id": "6mI3GQ5Q6mZv",
        "colab": {
          "base_uri": "https://localhost:8080/"
        },
        "outputId": "b9455fda-2bbf-4c27-db13-5b55b2731db6"
      },
      "source": [
        "df_small.__len__()\r\n",
        "\r\n",
        "df_small = pd.DataFrame(data_small.__dict__['raw_ratings'], columns=['user_id', 'item_id', 'rating', 'timestamp'])\r\n",
        "print(\"El conjunto de datos reducido df_small contiene {} elementos\".format(df_small.shape[0]))\r\n",
        "len(df_small)"
      ],
      "execution_count": 31,
      "outputs": [
        {
          "output_type": "stream",
          "text": [
            "El conjunto de datos reducido df_small contiene 1325 elementos\n"
          ],
          "name": "stdout"
        },
        {
          "output_type": "execute_result",
          "data": {
            "text/plain": [
              "1325"
            ]
          },
          "metadata": {
            "tags": []
          },
          "execution_count": 31
        }
      ]
    },
    {
      "cell_type": "markdown",
      "metadata": {
        "id": "IMX0Fyv5GG9c"
      },
      "source": [
        ""
      ]
    },
    {
      "cell_type": "markdown",
      "metadata": {
        "id": "N_s4-9ZS6mwJ"
      },
      "source": [
        "- Proporcione una breve descripción de las principales características del conjunto de datos.\n",
        "\n"
      ]
    },
    {
      "cell_type": "code",
      "metadata": {
        "id": "snFnkYLy6F4u",
        "colab": {
          "base_uri": "https://localhost:8080/",
          "height": 294
        },
        "outputId": "bc3c49c4-4508-49c7-9d21-d40523bd3e20"
      },
      "source": [
        "df_small.head()\r\n",
        "\r\n",
        "#df_small.drop(['timestamp'], axis=1)\r\n",
        "df_small.describe()\r\n",
        "#df_small.info()\r\n",
        "\r\n"
      ],
      "execution_count": null,
      "outputs": [
        {
          "output_type": "execute_result",
          "data": {
            "text/html": [
              "<div>\n",
              "<style scoped>\n",
              "    .dataframe tbody tr th:only-of-type {\n",
              "        vertical-align: middle;\n",
              "    }\n",
              "\n",
              "    .dataframe tbody tr th {\n",
              "        vertical-align: top;\n",
              "    }\n",
              "\n",
              "    .dataframe thead th {\n",
              "        text-align: right;\n",
              "    }\n",
              "</style>\n",
              "<table border=\"1\" class=\"dataframe\">\n",
              "  <thead>\n",
              "    <tr style=\"text-align: right;\">\n",
              "      <th></th>\n",
              "      <th>rating</th>\n",
              "    </tr>\n",
              "  </thead>\n",
              "  <tbody>\n",
              "    <tr>\n",
              "      <th>count</th>\n",
              "      <td>1325.000000</td>\n",
              "    </tr>\n",
              "    <tr>\n",
              "      <th>mean</th>\n",
              "      <td>2.346844</td>\n",
              "    </tr>\n",
              "    <tr>\n",
              "      <th>std</th>\n",
              "      <td>5.032869</td>\n",
              "    </tr>\n",
              "    <tr>\n",
              "      <th>min</th>\n",
              "      <td>-9.844000</td>\n",
              "    </tr>\n",
              "    <tr>\n",
              "      <th>25%</th>\n",
              "      <td>-1.438000</td>\n",
              "    </tr>\n",
              "    <tr>\n",
              "      <th>50%</th>\n",
              "      <td>3.500000</td>\n",
              "    </tr>\n",
              "    <tr>\n",
              "      <th>75%</th>\n",
              "      <td>6.281000</td>\n",
              "    </tr>\n",
              "    <tr>\n",
              "      <th>max</th>\n",
              "      <td>9.969000</td>\n",
              "    </tr>\n",
              "  </tbody>\n",
              "</table>\n",
              "</div>"
            ],
            "text/plain": [
              "            rating\n",
              "count  1325.000000\n",
              "mean      2.346844\n",
              "std       5.032869\n",
              "min      -9.844000\n",
              "25%      -1.438000\n",
              "50%       3.500000\n",
              "75%       6.281000\n",
              "max       9.969000"
            ]
          },
          "metadata": {
            "tags": []
          },
          "execution_count": 64
        }
      ]
    },
    {
      "cell_type": "markdown",
      "metadata": {
        "id": "bjumn7YMGHmM"
      },
      "source": [
        ""
      ]
    },
    {
      "cell_type": "markdown",
      "metadata": {
        "id": "NI294Lb96xTK"
      },
      "source": [
        "c) Proporcione una representación gráfica de la distribución del número de usuarios con un determinado número de valoraciones. ¿Cuáles son las principales conclusiones que se pueden sacar de este gráfico ?\n"
      ]
    },
    {
      "cell_type": "code",
      "metadata": {
        "id": "2D4UT5GU82zE",
        "outputId": "ed2c4fc5-883b-4ffd-89e1-370bb475bc1a",
        "colab": {
          "base_uri": "https://localhost:8080/",
          "height": 297
        }
      },
      "source": [
        "import matplotlib.pyplot as plt\r\n",
        "import seaborn as sns\r\n",
        "\r\n",
        "for i, binwidth in enumerate([1, 5, 10, 15]):\r\n",
        "    \r\n",
        "    # Set up the plot\r\n",
        "    ax = plt.subplot(2, 2, i + 1)\r\n",
        "    \r\n",
        "    # Draw the plot\r\n",
        "    ax.hist(df_small['rating'], bins = int(180/binwidth),\r\n",
        "             color = 'blue', edgecolor = 'black')\r\n",
        "    \r\n",
        "    # Title and labels\r\n",
        "    ax.set_title('Histogram with Binwidth = %d' % binwidth, size = 10)\r\n",
        "    ax.set_xlabel('Delay (min)', size = 10)\r\n",
        "    ax.set_ylabel('Flights', size= 10)\r\n",
        "\r\n",
        "plt.tight_layout()\r\n",
        "plt.show()"
      ],
      "execution_count": 47,
      "outputs": [
        {
          "output_type": "display_data",
          "data": {
            "image/png": "[encoded data removed]",
            "text/plain": [
              "<Figure size 432x288 with 4 Axes>"
            ]
          },
          "metadata": {
            "tags": [],
            "needs_background": "light"
          }
        }
      ]
    },
    {
      "cell_type": "markdown",
      "metadata": {
        "id": "pMRtA2YoGIju"
      },
      "source": [
        ""
      ]
    },
    {
      "cell_type": "markdown",
      "metadata": {
        "id": "XKXoXUaY7CqK"
      },
      "source": [
        "## **Ejercicio 2: Diferentes formas de diseñar un sistema de recomendación**\n",
        "En este ejercicio estamos explorando diferentes formas de diseñar / entrenar un sistema de recomendación. A menos que se indique lo contrario, este ejercicio se realizará con el conjunto de datos reducido obtenido en el ejercicio anterior.\n"
      ]
    },
    {
      "cell_type": "code",
      "metadata": {
        "id": "Yufa_tCs6yrW"
      },
      "source": [
        ""
      ],
      "execution_count": null,
      "outputs": []
    },
    {
      "cell_type": "markdown",
      "metadata": {
        "id": "ywLVjyYL7Vk_"
      },
      "source": [
        "\n",
        "a) Ajuste un recomendador de descomposición de valores singulares utilizando como datos de entrenamiento todo el conjunto de datos reducido. ¿Cuál es la tasa prevista de user_id = 46 del chiste con item_id = 44 ?. ¿Cuál es la discrepancia entre la qualificació prevista y la real? Evalúe el rendimiento de este enfoque utilizando RMSE, MAE y MSE como métricas de precisión.\n"
      ]
    },
    {
      "cell_type": "code",
      "metadata": {
        "id": "JQViGWVF7XUI",
        "outputId": "e1bf3a1e-3d7f-4fc8-fb89-4e560bdcdeaa",
        "colab": {
          "base_uri": "https://localhost:8080/",
          "height": 311
        }
      },
      "source": [
        "# Build an algorithm, and train it.\r\n",
        "mSVD = surprise.SVD()\r\n",
        "mSVD.fit()\r\n",
        "mSVD.fit(data_small)\r\n",
        "uid = str(46)  # raw user id (as in the ratings file). They are **strings**!\r\n",
        "iid = str(44)  # raw item id (as in the ratings file). They are **strings**!\r\n",
        "\r\n",
        "# get a prediction for specific users and items.\r\n",
        "#pred = algo.predict(uid, iid, r_ui=4, verbose=True)\r\n"
      ],
      "execution_count": 54,
      "outputs": [
        {
          "output_type": "error",
          "ename": "AttributeError",
          "evalue": "ignored",
          "traceback": [
            "\u001b[0;31m---------------------------------------------------------------------------\u001b[0m",
            "\u001b[0;31mAttributeError\u001b[0m                            Traceback (most recent call last)",
            "\u001b[0;32m<ipython-input-54-7d364244255c>\u001b[0m in \u001b[0;36m<module>\u001b[0;34m()\u001b[0m\n\u001b[1;32m      1\u001b[0m \u001b[0;31m# Build an algorithm, and train it.\u001b[0m\u001b[0;34m\u001b[0m\u001b[0;34m\u001b[0m\u001b[0;34m\u001b[0m\u001b[0m\n\u001b[1;32m      2\u001b[0m \u001b[0mmSVD\u001b[0m \u001b[0;34m=\u001b[0m \u001b[0msurprise\u001b[0m\u001b[0;34m.\u001b[0m\u001b[0mSVD\u001b[0m\u001b[0;34m(\u001b[0m\u001b[0;34m)\u001b[0m\u001b[0;34m\u001b[0m\u001b[0;34m\u001b[0m\u001b[0m\n\u001b[0;32m----> 3\u001b[0;31m \u001b[0mmSVD\u001b[0m\u001b[0;34m.\u001b[0m\u001b[0mfit\u001b[0m\u001b[0;34m(\u001b[0m\u001b[0mdata_small\u001b[0m\u001b[0;34m)\u001b[0m\u001b[0;34m\u001b[0m\u001b[0;34m\u001b[0m\u001b[0m\n\u001b[0m\u001b[1;32m      4\u001b[0m \u001b[0muid\u001b[0m \u001b[0;34m=\u001b[0m \u001b[0mstr\u001b[0m\u001b[0;34m(\u001b[0m\u001b[0;36m46\u001b[0m\u001b[0;34m)\u001b[0m  \u001b[0;31m# raw user id (as in the ratings file). They are **strings**!\u001b[0m\u001b[0;34m\u001b[0m\u001b[0;34m\u001b[0m\u001b[0m\n\u001b[1;32m      5\u001b[0m \u001b[0miid\u001b[0m \u001b[0;34m=\u001b[0m \u001b[0mstr\u001b[0m\u001b[0;34m(\u001b[0m\u001b[0;36m44\u001b[0m\u001b[0;34m)\u001b[0m  \u001b[0;31m# raw item id (as in the ratings file). They are **strings**!\u001b[0m\u001b[0;34m\u001b[0m\u001b[0;34m\u001b[0m\u001b[0m\n",
            "\u001b[0;32m/usr/local/lib/python3.7/dist-packages/surprise/prediction_algorithms/matrix_factorization.pyx\u001b[0m in \u001b[0;36msurprise.prediction_algorithms.matrix_factorization.SVD.fit\u001b[0;34m()\u001b[0m\n",
            "\u001b[0;32m/usr/local/lib/python3.7/dist-packages/surprise/prediction_algorithms/matrix_factorization.pyx\u001b[0m in \u001b[0;36msurprise.prediction_algorithms.matrix_factorization.SVD.sgd\u001b[0;34m()\u001b[0m\n",
            "\u001b[0;31mAttributeError\u001b[0m: 'DatasetAutoFolds' object has no attribute 'global_mean'"
          ]
        }
      ]
    },
    {
      "cell_type": "markdown",
      "metadata": {
        "id": "I2HDbqvqGJsy"
      },
      "source": [
        ""
      ]
    },
    {
      "cell_type": "markdown",
      "metadata": {
        "id": "hbdYrfyT7Xio"
      },
      "source": [
        "b) Ajuste el mismo recomendador pero ahora dividiendo los datos en subconjuntos de entrenamiento y prueba en tres proporciones diferentes (entrenamiento / prueba): 90/10, 75/25 y 10/90. Compare el RMSE, MAE y MSE promedio cuando utilice diferentes fracciones para los subconjuntos de entrenamiento y prueba. ¿Qué proporción produce mejores resultados de predicción? Justifica tu respuesta.\n"
      ]
    },
    {
      "cell_type": "code",
      "metadata": {
        "id": "N8Yz1zl37Zdg",
        "outputId": "492e7639-ba18-4b32-e5b8-b44cad03737f",
        "colab": {
          "base_uri": "https://localhost:8080/",
          "height": 235
        }
      },
      "source": [
        "from surprise import model_selection\r\n",
        "from surprise import SVD\r\n",
        "\r\n",
        "for size in [0.1, 0.25,0.9]:\r\n",
        "\r\n",
        "  trainset, testset = model_selection.train_test_split(data, test_size=size)\r\n",
        "\r\n",
        "  # We'll use the famous SVD algorithm.\r\n",
        "  mSVD = SVD()\r\n",
        "\r\n",
        "  # Train the algorithm on the trainset, and predict ratings for the testset\r\n",
        "  mSVD.fit(trainset)\r\n",
        "  predictions = mSVD.test(testset)\r\n",
        "\r\n",
        "  # Then compute RMSE\r\n",
        "  accuracy.rmse(predictions)\r\n",
        "  accuracy.mse(predictions)\r\n",
        "  accuracy.mae(predictions)"
      ],
      "execution_count": 17,
      "outputs": [
        {
          "output_type": "error",
          "ename": "NameError",
          "evalue": "ignored",
          "traceback": [
            "\u001b[0;31m---------------------------------------------------------------------------\u001b[0m",
            "\u001b[0;31mNameError\u001b[0m                                 Traceback (most recent call last)",
            "\u001b[0;32m<ipython-input-17-4983dc20440c>\u001b[0m in \u001b[0;36m<module>\u001b[0;34m()\u001b[0m\n\u001b[1;32m     14\u001b[0m \u001b[0;34m\u001b[0m\u001b[0m\n\u001b[1;32m     15\u001b[0m   \u001b[0;31m# Then compute RMSE\u001b[0m\u001b[0;34m\u001b[0m\u001b[0;34m\u001b[0m\u001b[0;34m\u001b[0m\u001b[0m\n\u001b[0;32m---> 16\u001b[0;31m   \u001b[0maccuracy\u001b[0m\u001b[0;34m.\u001b[0m\u001b[0mrmse\u001b[0m\u001b[0;34m(\u001b[0m\u001b[0mpredictions\u001b[0m\u001b[0;34m)\u001b[0m\u001b[0;34m\u001b[0m\u001b[0;34m\u001b[0m\u001b[0m\n\u001b[0m\u001b[1;32m     17\u001b[0m   \u001b[0maccuracy\u001b[0m\u001b[0;34m.\u001b[0m\u001b[0mmse\u001b[0m\u001b[0;34m(\u001b[0m\u001b[0mpredictions\u001b[0m\u001b[0;34m)\u001b[0m\u001b[0;34m\u001b[0m\u001b[0;34m\u001b[0m\u001b[0m\n\u001b[1;32m     18\u001b[0m   \u001b[0maccuracy\u001b[0m\u001b[0;34m.\u001b[0m\u001b[0mmae\u001b[0m\u001b[0;34m(\u001b[0m\u001b[0mpredictions\u001b[0m\u001b[0;34m)\u001b[0m\u001b[0;34m\u001b[0m\u001b[0;34m\u001b[0m\u001b[0m\n",
            "\u001b[0;31mNameError\u001b[0m: name 'accuracy' is not defined"
          ]
        }
      ]
    },
    {
      "cell_type": "markdown",
      "metadata": {
        "id": "4qU9RzUXGKjz"
      },
      "source": [
        ""
      ]
    },
    {
      "cell_type": "markdown",
      "metadata": {
        "id": "LDlHHyyM7Zm9"
      },
      "source": [
        "c) Ajuste y evalúe ahora el recomendador de SVD utilizando un procedimiento de validación cruzada de 5 veces (cv = 5). Compare los resultados medios con el rendimiento obtenido en los apartados anteriores. Explique las diferencias de forma razonada.\n"
      ]
    },
    {
      "cell_type": "code",
      "metadata": {
        "id": "D1YTGAp97bJc"
      },
      "source": [
        ""
      ],
      "execution_count": null,
      "outputs": []
    },
    {
      "cell_type": "markdown",
      "metadata": {
        "id": "wFmQ4FDSGLVX"
      },
      "source": [
        ""
      ]
    },
    {
      "cell_type": "markdown",
      "metadata": {
        "id": "ERCyqH-C7bfW"
      },
      "source": [
        "d) Use una validación cruzada de 5 veces para comparar el desempeño de las versiones sesgadas e imparciales del recomendador de SVD descrito en https://surprise.readthedocs.io/en/stable/matrix_factorization.html#surprise.prediction_algorithms.matrix_factorization. SVD. ¿Qué método proporciona una mejor precisión de predicción? ¿Por qué?\n"
      ]
    },
    {
      "cell_type": "code",
      "metadata": {
        "id": "VDlFjFOp7c2Z"
      },
      "source": [
        ""
      ],
      "execution_count": null,
      "outputs": []
    },
    {
      "cell_type": "markdown",
      "metadata": {
        "id": "8mAE6x1oGL8R"
      },
      "source": [
        ""
      ]
    },
    {
      "cell_type": "markdown",
      "metadata": {
        "id": "F1t0U-O-7dJo"
      },
      "source": [
        "e) Confirme la comparación entre los algoritmos SVD sesgados e insesgados realizando una validación cruzada de búsqueda de cuadrícula https://surprise.readthedocs.io/en/stable/getting_started.html#tune-algorithm-parameters-with-gridsearchcv"
      ]
    },
    {
      "cell_type": "code",
      "metadata": {
        "id": "0XnpIrlSGkMG"
      },
      "source": [
        "param_grid = {'n_epochs': [5, 10], 'lr_all': [0.002, 0.005],\r\n",
        "              'reg_all': [0.4, 0.6]}\r\n",
        "gs = GridSearchCV(SVD, param_grid, measures=['rmse', 'mae'], cv=3)\r\n",
        "\r\n",
        "gs.fit(data)\r\n",
        "\r\n",
        "# best RMSE score\r\n",
        "print(gs.best_score['rmse'])\r\n",
        "\r\n",
        "# combination of parameters that gave the best RMSE score\r\n",
        "print(gs.best_params['rmse'])"
      ],
      "execution_count": null,
      "outputs": []
    },
    {
      "cell_type": "markdown",
      "metadata": {
        "id": "LxjLyuhd8E9d"
      },
      "source": [
        "## **Ejercicio 3: Comparar algoritmos de agrupamiento con datos sintéticos**\n",
        "En esta sección, comparará dos de los algoritmos de agrupación en clúster más comunes que utilizan datos generados sintéticamente.\n",
        "\n"
      ]
    },
    {
      "cell_type": "markdown",
      "metadata": {
        "id": "WStGP4yB8Ii-"
      },
      "source": [
        "a) Utilice la función make_blobs de la biblioteca sklearn para generar 1500 observaciones bidimensionales distribuidas equitativamente en tres grupos centrados en las posiciones (0,0), (4,4) y (6,6). La descripción de la función se puede encontrar aquí:\n",
        "https://scikit-learn.org/stable/modules/generated/sklearn.datasets.make_blobs.html\n"
      ]
    },
    {
      "cell_type": "code",
      "metadata": {
        "id": "UeOcS8ZT8KPF"
      },
      "source": [
        ""
      ],
      "execution_count": null,
      "outputs": []
    },
    {
      "cell_type": "markdown",
      "metadata": {
        "id": "S7GZ6M8S8KYy"
      },
      "source": [
        "b) Agrupar los datos usando un algoritmo de k-medias con k = 3 y un método de agrupamiento jerárquico / aglomerativo con tres grupos. Represente gráficamente los resultados con diagramas de dispersión usando diferentes colores para cada uno de los grupos identificados por los dos métodos. Compare los resultados de la agrupación en clústeres. ¿Qué método es mejor cuando el verdadero centroide de los grupos se acerca?\n"
      ]
    },
    {
      "cell_type": "code",
      "metadata": {
        "id": "C-vhvEux8Lib"
      },
      "source": [
        ""
      ],
      "execution_count": null,
      "outputs": []
    },
    {
      "cell_type": "markdown",
      "metadata": {
        "id": "aCIQw1ZJGNKV"
      },
      "source": [
        ""
      ]
    },
    {
      "cell_type": "markdown",
      "metadata": {
        "id": "CTH9gqO-8Lqm"
      },
      "source": [
        "c) Repita las tareas de las dos secciones anteriores, pero ahora genere las observaciones con las siguientes varianzas desiguales: 1, 2.5 y 0.5 respectivamente. Comente los resultados."
      ]
    },
    {
      "cell_type": "code",
      "metadata": {
        "id": "LECZVnpe8MJM"
      },
      "source": [
        ""
      ],
      "execution_count": null,
      "outputs": []
    },
    {
      "cell_type": "markdown",
      "metadata": {
        "id": "4HzxLBJXGNr4"
      },
      "source": [
        ""
      ]
    }
  ]
}