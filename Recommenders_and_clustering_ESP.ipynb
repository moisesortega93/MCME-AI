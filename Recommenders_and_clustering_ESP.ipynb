{
  "nbformat": 4,
  "nbformat_minor": 0,
  "metadata": {
    "colab": {
      "name": "Recommenders_and_clustering_ESP.ipynb",
      "provenance": [],
      "include_colab_link": true
    },
    "kernelspec": {
      "name": "python3",
      "display_name": "Python 3"
    }
  },
  "cells": [
    {
      "cell_type": "markdown",
      "metadata": {
        "id": "view-in-github",
        "colab_type": "text"
      },
      "source": [
        "<a href=\"https://colab.research.google.com/github/moisesortega93/MCME-AI/blob/main/Recommenders_and_clustering_ESP.ipynb\" target=\"_parent\"><img src=\"https://colab.research.google.com/assets/colab-badge.svg\" alt=\"Open In Colab\"/></a>"
      ]
    },
    {
      "cell_type": "markdown",
      "metadata": {
        "id": "ZOana4Fo5ay9"
      },
      "source": [
        "# **PEC1: Recomendadores y agrupación:**\n",
        "\n",
        "Este archivo de cuaderno interactivo de jupyter le ayudará a comenzar con las operaciones básicas necesarias para resolver los ejercicios del PEC. Utilice este archivo para proporcionar una solución a los ejercicios (tanto el código como los comentarios escritos). Agregue tantas celdas de código y de texto como necesite para resolver todos los ejercicios. Asegúrate de que el archivo se puede ejecutar completamente antes de cargarlo para su entrega."
      ]
    },
    {
      "cell_type": "markdown",
      "metadata": {
        "id": "HIaaM2JA3KNd"
      },
      "source": [
        "### Instalar las librerías suprise en google colab:"
      ]
    },
    {
      "cell_type": "code",
      "metadata": {
        "id": "Wz8OWzk23Np4",
        "colab": {
          "base_uri": "https://localhost:8080/"
        },
        "outputId": "6b31c135-5c02-4640-8c27-2247e1ba17cc"
      },
      "source": [
        "!pip install scikit-surprise\r\n",
        "!pip install sklearn\r\n",
        "\r\n",
        "import surprise"
      ],
      "execution_count": 2,
      "outputs": [
        {
          "output_type": "stream",
          "text": [
            "Collecting scikit-surprise\n",
            "\u001b[?25l  Downloading https://files.pythonhosted.org/packages/97/37/5d334adaf5ddd65da99fc65f6507e0e4599d092ba048f4302fe8775619e8/scikit-surprise-1.1.1.tar.gz (11.8MB)\n",
            "\u001b[K     |████████████████████████████████| 11.8MB 5.7MB/s \n",
            "\u001b[?25hRequirement already satisfied: joblib>=0.11 in /usr/local/lib/python3.7/dist-packages (from scikit-surprise) (1.0.1)\n",
            "Requirement already satisfied: numpy>=1.11.2 in /usr/local/lib/python3.7/dist-packages (from scikit-surprise) (1.19.5)\n",
            "Requirement already satisfied: scipy>=1.0.0 in /usr/local/lib/python3.7/dist-packages (from scikit-surprise) (1.4.1)\n",
            "Requirement already satisfied: six>=1.10.0 in /usr/local/lib/python3.7/dist-packages (from scikit-surprise) (1.15.0)\n",
            "Building wheels for collected packages: scikit-surprise\n",
            "  Building wheel for scikit-surprise (setup.py) ... \u001b[?25l\u001b[?25hdone\n",
            "  Created wheel for scikit-surprise: filename=scikit_surprise-1.1.1-cp37-cp37m-linux_x86_64.whl size=1617550 sha256=adec82f0be235c1ce575543692f95aa84589c6de5ca3ce9aef81da7ce0194484\n",
            "  Stored in directory: /root/.cache/pip/wheels/78/9c/3d/41b419c9d2aff5b6e2b4c0fc8d25c538202834058f9ed110d0\n",
            "Successfully built scikit-surprise\n",
            "Installing collected packages: scikit-surprise\n",
            "Successfully installed scikit-surprise-1.1.1\n",
            "Requirement already satisfied: sklearn in /usr/local/lib/python3.7/dist-packages (0.0)\n",
            "Requirement already satisfied: scikit-learn in /usr/local/lib/python3.7/dist-packages (from sklearn) (0.22.2.post1)\n",
            "Requirement already satisfied: numpy>=1.11.0 in /usr/local/lib/python3.7/dist-packages (from scikit-learn->sklearn) (1.19.5)\n",
            "Requirement already satisfied: scipy>=0.17.0 in /usr/local/lib/python3.7/dist-packages (from scikit-learn->sklearn) (1.4.1)\n",
            "Requirement already satisfied: joblib>=0.11 in /usr/local/lib/python3.7/dist-packages (from scikit-learn->sklearn) (1.0.1)\n"
          ],
          "name": "stdout"
        }
      ]
    },
    {
      "cell_type": "markdown",
      "metadata": {
        "id": "mpZd1kWV5-fc"
      },
      "source": [
        "## **Ejercicio 1: Manipulación de datos con surprise and Pandas:**\n",
        "\n",
        "Este primer ejercicio es para familiarizarse con el conjunto de datos de Jester y cómo realizar la manipulación básica de datos usando Pandas.\n"
      ]
    },
    {
      "cell_type": "markdown",
      "metadata": {
        "id": "21oHTaYA3DxS"
      },
      "source": [
        "a) Cargar la base de datos Jester desde el surprise dataset"
      ]
    },
    {
      "cell_type": "code",
      "metadata": {
        "id": "-h7I2CKT2_Ie",
        "colab": {
          "base_uri": "https://localhost:8080/"
        },
        "outputId": "61d32bce-c256-40a9-a4d8-a7accd4fbeff"
      },
      "source": [
        "from surprise import Dataset\n",
        "\n",
        "data = Dataset.load_builtin('jester')\n"
      ],
      "execution_count": 2,
      "outputs": [
        {
          "output_type": "stream",
          "text": [
            "Dataset jester could not be found. Do you want to download it? [Y/n] Y\n",
            "Trying to download dataset from http://eigentaste.berkeley.edu/dataset/archive/jester_dataset_2.zip...\n",
            "Done! Dataset jester has been saved to /root/.surprise_data/jester\n"
          ],
          "name": "stdout"
        }
      ]
    },
    {
      "cell_type": "markdown",
      "metadata": {
        "id": "JK6JF_hi3QnT"
      },
      "source": [
        "Convertir los datos a un Pandas dataframe"
      ]
    },
    {
      "cell_type": "code",
      "metadata": {
        "id": "vqywQibj3UZQ",
        "colab": {
          "base_uri": "https://localhost:8080/"
        },
        "outputId": "123156bc-641a-4925-d5da-3e8bcc901264"
      },
      "source": [
        "import pandas as pd\n",
        "df = pd.DataFrame(data.__dict__['raw_ratings'], columns=['user_id', 'item_id', 'rating', 'timestamp'])\n",
        "print(df.shape)"
      ],
      "execution_count": 5,
      "outputs": [
        {
          "output_type": "stream",
          "text": [
            "(1761439, 4)\n"
          ],
          "name": "stdout"
        }
      ]
    },
    {
      "cell_type": "markdown",
      "metadata": {
        "id": "W8blmb-f3Y1k"
      },
      "source": [
        "Realizar inspección y manipulación básica de los datos:"
      ]
    },
    {
      "cell_type": "markdown",
      "metadata": {
        "id": "8Jc-xVkm3oZ9"
      },
      "source": [
        "Enumere las 10 primeras entradas del conjunto de datos:\n"
      ]
    },
    {
      "cell_type": "code",
      "metadata": {
        "id": "eZGcdB2X3b7F",
        "colab": {
          "base_uri": "https://localhost:8080/",
          "height": 355
        },
        "outputId": "17a192a9-1087-409e-b6f5-e2b8773d2e09"
      },
      "source": [
        "df.head(10) "
      ],
      "execution_count": 4,
      "outputs": [
        {
          "output_type": "execute_result",
          "data": {
            "text/html": [
              "<div>\n",
              "<style scoped>\n",
              "    .dataframe tbody tr th:only-of-type {\n",
              "        vertical-align: middle;\n",
              "    }\n",
              "\n",
              "    .dataframe tbody tr th {\n",
              "        vertical-align: top;\n",
              "    }\n",
              "\n",
              "    .dataframe thead th {\n",
              "        text-align: right;\n",
              "    }\n",
              "</style>\n",
              "<table border=\"1\" class=\"dataframe\">\n",
              "  <thead>\n",
              "    <tr style=\"text-align: right;\">\n",
              "      <th></th>\n",
              "      <th>user_id</th>\n",
              "      <th>item_id</th>\n",
              "      <th>rating</th>\n",
              "      <th>timestamp</th>\n",
              "    </tr>\n",
              "  </thead>\n",
              "  <tbody>\n",
              "    <tr>\n",
              "      <th>0</th>\n",
              "      <td>1</td>\n",
              "      <td>5</td>\n",
              "      <td>0.219</td>\n",
              "      <td>None</td>\n",
              "    </tr>\n",
              "    <tr>\n",
              "      <th>1</th>\n",
              "      <td>1</td>\n",
              "      <td>7</td>\n",
              "      <td>-9.281</td>\n",
              "      <td>None</td>\n",
              "    </tr>\n",
              "    <tr>\n",
              "      <th>2</th>\n",
              "      <td>1</td>\n",
              "      <td>8</td>\n",
              "      <td>-9.281</td>\n",
              "      <td>None</td>\n",
              "    </tr>\n",
              "    <tr>\n",
              "      <th>3</th>\n",
              "      <td>1</td>\n",
              "      <td>13</td>\n",
              "      <td>-6.781</td>\n",
              "      <td>None</td>\n",
              "    </tr>\n",
              "    <tr>\n",
              "      <th>4</th>\n",
              "      <td>1</td>\n",
              "      <td>15</td>\n",
              "      <td>0.875</td>\n",
              "      <td>None</td>\n",
              "    </tr>\n",
              "    <tr>\n",
              "      <th>5</th>\n",
              "      <td>1</td>\n",
              "      <td>16</td>\n",
              "      <td>-9.656</td>\n",
              "      <td>None</td>\n",
              "    </tr>\n",
              "    <tr>\n",
              "      <th>6</th>\n",
              "      <td>1</td>\n",
              "      <td>17</td>\n",
              "      <td>-9.031</td>\n",
              "      <td>None</td>\n",
              "    </tr>\n",
              "    <tr>\n",
              "      <th>7</th>\n",
              "      <td>1</td>\n",
              "      <td>18</td>\n",
              "      <td>-7.469</td>\n",
              "      <td>None</td>\n",
              "    </tr>\n",
              "    <tr>\n",
              "      <th>8</th>\n",
              "      <td>1</td>\n",
              "      <td>19</td>\n",
              "      <td>-8.719</td>\n",
              "      <td>None</td>\n",
              "    </tr>\n",
              "    <tr>\n",
              "      <th>9</th>\n",
              "      <td>1</td>\n",
              "      <td>20</td>\n",
              "      <td>-9.156</td>\n",
              "      <td>None</td>\n",
              "    </tr>\n",
              "  </tbody>\n",
              "</table>\n",
              "</div>"
            ],
            "text/plain": [
              "  user_id item_id  rating timestamp\n",
              "0       1       5   0.219      None\n",
              "1       1       7  -9.281      None\n",
              "2       1       8  -9.281      None\n",
              "3       1      13  -6.781      None\n",
              "4       1      15   0.875      None\n",
              "5       1      16  -9.656      None\n",
              "6       1      17  -9.031      None\n",
              "7       1      18  -7.469      None\n",
              "8       1      19  -8.719      None\n",
              "9       1      20  -9.156      None"
            ]
          },
          "metadata": {
            "tags": []
          },
          "execution_count": 4
        }
      ]
    },
    {
      "cell_type": "markdown",
      "metadata": {
        "id": "c_Sb17O93u_m"
      },
      "source": [
        "¿Cuántas entradas hay en el conjunto de datos?"
      ]
    },
    {
      "cell_type": "code",
      "metadata": {
        "id": "aM45Besw3iAC",
        "colab": {
          "base_uri": "https://localhost:8080/"
        },
        "outputId": "728d40b9-06db-4f1b-916e-bec049948715"
      },
      "source": [
        "df.shape[0] # 0: number of rows, 1: number of columns/variables\r\n",
        "len(df)\r\n",
        "df.__len__()"
      ],
      "execution_count": 5,
      "outputs": [
        {
          "output_type": "execute_result",
          "data": {
            "text/plain": [
              "1761439"
            ]
          },
          "metadata": {
            "tags": []
          },
          "execution_count": 5
        }
      ]
    },
    {
      "cell_type": "markdown",
      "metadata": {
        "id": "SlaII0nh4BMu"
      },
      "source": [
        "¿Cuántos usuarios y chistes hay en la base de datos?"
      ]
    },
    {
      "cell_type": "code",
      "metadata": {
        "id": "T9iSf4hA38ze",
        "colab": {
          "base_uri": "https://localhost:8080/"
        },
        "outputId": "82214b4d-382c-4aa9-a7d0-4df8698a1603"
      },
      "source": [
        "print('Number of users:')\n",
        "df[\"user_id\"].nunique() # number of users\n",
        "len(df.groupby(['user_id']))"
      ],
      "execution_count": 6,
      "outputs": [
        {
          "output_type": "stream",
          "text": [
            "Number of users:\n"
          ],
          "name": "stdout"
        },
        {
          "output_type": "execute_result",
          "data": {
            "text/plain": [
              "59132"
            ]
          },
          "metadata": {
            "tags": []
          },
          "execution_count": 6
        }
      ]
    },
    {
      "cell_type": "code",
      "metadata": {
        "id": "-n4_M_NV4vI1",
        "colab": {
          "base_uri": "https://localhost:8080/"
        },
        "outputId": "796ea634-f898-4141-a194-9cf51e58dc52"
      },
      "source": [
        "print('Number of items:')\n",
        "df[\"item_id\"].nunique() # number of items\n",
        "len(df.groupby(['user_id']))"
      ],
      "execution_count": 60,
      "outputs": [
        {
          "output_type": "stream",
          "text": [
            "Number of items:\n"
          ],
          "name": "stdout"
        },
        {
          "output_type": "execute_result",
          "data": {
            "text/plain": [
              "59132"
            ]
          },
          "metadata": {
            "tags": []
          },
          "execution_count": 60
        }
      ]
    },
    {
      "cell_type": "markdown",
      "metadata": {
        "id": "kpzaiu3P4PiI"
      },
      "source": [
        "¿Cuál es la calificación del usuario con user_id = 1 de la chiste con item_id = 5?\n"
      ]
    },
    {
      "cell_type": "code",
      "metadata": {
        "id": "QOkiR0pa4Iw_",
        "colab": {
          "base_uri": "https://localhost:8080/"
        },
        "outputId": "66953ed4-8bf4-4634-c8e2-b6bef638cc8d"
      },
      "source": [
        "df.loc[(df[\"user_id\"]=='1') & (df[\"item_id\"]=='5')]\r\n",
        "df.loc[(df[\"user_id\"]=='1') & (df[\"item_id\"]=='5'),\"rating\"].values[0]\r\n",
        "\r\n",
        "# Alternatively \r\n",
        "df.iloc[[i for i, x in enumerate((df[\"user_id\"]=='1') & (df[\"item_id\"]=='5')) if x], 2]  # or\r\n",
        "#df.iloc[[i for i, x in enumerate((df[\"user_id\"]=='1') & (df[\"item_id\"]=='5')) if x], [x for x, i in enumerate(df.columns) if x==\"rating\"] ] \r\n",
        "name=1;\r\n",
        "print(\"La califación del user_id \", name, \" es: \", df.loc[(df[\"user_id\"]=='1') & (df[\"item_id\"]=='5'),\"rating\"].values[0], sep='')\r\n"
      ],
      "execution_count": 7,
      "outputs": [
        {
          "output_type": "stream",
          "text": [
            "La califación del user_id 1 es: 0.219\n"
          ],
          "name": "stdout"
        }
      ]
    },
    {
      "cell_type": "markdown",
      "metadata": {
        "id": "JO79Ovxs4hy0"
      },
      "source": [
        "b) Filtrar el conjunto de datos:\n",
        "\n",
        "Filtre la base de datos manteniendo solo los elementos que hayan calificado al menos min_item_ratings usuarios y usuarios que hayan calificado al menos los elementos min_user_ratings:"
      ]
    },
    {
      "cell_type": "code",
      "metadata": {
        "id": "XnE8GHL_4X3Q",
        "colab": {
          "base_uri": "https://localhost:8080/"
        },
        "outputId": "079ca4a7-c49a-48ca-8965-a078dcfbbf99"
      },
      "source": [
        "min_user_ratings = 130\n",
        "filter_users = df['user_id'].value_counts() > min_user_ratings\n",
        "filter_users = filter_users[filter_users].index.tolist()\n",
        "\n",
        "df_small = df[(df['item_id'].isin(filter_items)) & (df['user_id'].isin(filter_users))]\n",
        "print('The original data frame shape:\\t{}'.format(df.shape))\n",
        "print('The new data frame shape:\\t{}'.format(df_small.shape))"
      ],
      "execution_count": 8,
      "outputs": [
        {
          "output_type": "stream",
          "text": [
            "The original data frame shape:\t(1761439, 4)\n",
            "The new data frame shape:\t(1325, 4)\n"
          ],
          "name": "stdout"
        }
      ]
    },
    {
      "cell_type": "markdown",
      "metadata": {
        "id": "41Xp8Gsz59w9"
      },
      "source": [
        "Convierta el marco de datos de nuevo a una variable surprise utilizando las funciones reader y load_from_df:\n",
        "\n",
        "https://surprise.readthedocs.io/en/stable/getting_started.html#use-a-custom-dataset"
      ]
    },
    {
      "cell_type": "code",
      "metadata": {
        "id": "oTSdIzL26Esu"
      },
      "source": [
        "from surprise import Reader \n",
        "reader = Reader(rating_scale=(-10, 10))\n",
        "data_small = Dataset.load_from_df(df_small[['user_id', 'item_id', 'rating']], reader)"
      ],
      "execution_count": 9,
      "outputs": []
    },
    {
      "cell_type": "markdown",
      "metadata": {
        "id": "K3WJuunz6cs9"
      },
      "source": [
        "Responde las siguientes preguntas:\n",
        "\n",
        "- ¿Cuántos usuarios y elementos hay en el conjunto de datos reducido?\n"
      ]
    },
    {
      "cell_type": "code",
      "metadata": {
        "id": "6mI3GQ5Q6mZv",
        "colab": {
          "base_uri": "https://localhost:8080/"
        },
        "outputId": "e868f874-18f7-4fae-97d7-39ea30ff4e2d"
      },
      "source": [
        "df_small.__len__()\r\n",
        "\r\n",
        "df_small = pd.DataFrame(data_small.__dict__['raw_ratings'], columns=['user_id', 'item_id', 'rating', 'timestamp'])\r\n",
        "print(\"El conjunto de datos reducido df_small contiene {} elementos\".format(df_small.shape[0]))\r\n",
        "len(df_small)"
      ],
      "execution_count": 10,
      "outputs": [
        {
          "output_type": "stream",
          "text": [
            "El conjunto de datos reducido df_small contiene 1325 elementos\n"
          ],
          "name": "stdout"
        },
        {
          "output_type": "execute_result",
          "data": {
            "text/plain": [
              "1325"
            ]
          },
          "metadata": {
            "tags": []
          },
          "execution_count": 10
        }
      ]
    },
    {
      "cell_type": "markdown",
      "metadata": {
        "id": "N_s4-9ZS6mwJ"
      },
      "source": [
        "- Proporcione una breve descripción de las principales características del conjunto de datos.\n",
        "\n"
      ]
    },
    {
      "cell_type": "code",
      "metadata": {
        "id": "snFnkYLy6F4u",
        "colab": {
          "base_uri": "https://localhost:8080/",
          "height": 294
        },
        "outputId": "9dcd4f7e-6e4d-4d19-9bff-cc011f9a9ddd"
      },
      "source": [
        "df_small.head()\r\n",
        "\r\n",
        "#df_small.drop(['timestamp'], axis=1)\r\n",
        "df_small.describe()\r\n",
        "#df_small.info()\r\n",
        "\r\n"
      ],
      "execution_count": 10,
      "outputs": [
        {
          "output_type": "execute_result",
          "data": {
            "text/html": [
              "<div>\n",
              "<style scoped>\n",
              "    .dataframe tbody tr th:only-of-type {\n",
              "        vertical-align: middle;\n",
              "    }\n",
              "\n",
              "    .dataframe tbody tr th {\n",
              "        vertical-align: top;\n",
              "    }\n",
              "\n",
              "    .dataframe thead th {\n",
              "        text-align: right;\n",
              "    }\n",
              "</style>\n",
              "<table border=\"1\" class=\"dataframe\">\n",
              "  <thead>\n",
              "    <tr style=\"text-align: right;\">\n",
              "      <th></th>\n",
              "      <th>rating</th>\n",
              "    </tr>\n",
              "  </thead>\n",
              "  <tbody>\n",
              "    <tr>\n",
              "      <th>count</th>\n",
              "      <td>1325.000000</td>\n",
              "    </tr>\n",
              "    <tr>\n",
              "      <th>mean</th>\n",
              "      <td>2.346844</td>\n",
              "    </tr>\n",
              "    <tr>\n",
              "      <th>std</th>\n",
              "      <td>5.032869</td>\n",
              "    </tr>\n",
              "    <tr>\n",
              "      <th>min</th>\n",
              "      <td>-9.844000</td>\n",
              "    </tr>\n",
              "    <tr>\n",
              "      <th>25%</th>\n",
              "      <td>-1.438000</td>\n",
              "    </tr>\n",
              "    <tr>\n",
              "      <th>50%</th>\n",
              "      <td>3.500000</td>\n",
              "    </tr>\n",
              "    <tr>\n",
              "      <th>75%</th>\n",
              "      <td>6.281000</td>\n",
              "    </tr>\n",
              "    <tr>\n",
              "      <th>max</th>\n",
              "      <td>9.969000</td>\n",
              "    </tr>\n",
              "  </tbody>\n",
              "</table>\n",
              "</div>"
            ],
            "text/plain": [
              "            rating\n",
              "count  1325.000000\n",
              "mean      2.346844\n",
              "std       5.032869\n",
              "min      -9.844000\n",
              "25%      -1.438000\n",
              "50%       3.500000\n",
              "75%       6.281000\n",
              "max       9.969000"
            ]
          },
          "metadata": {
            "tags": []
          },
          "execution_count": 10
        }
      ]
    },
    {
      "cell_type": "markdown",
      "metadata": {
        "id": "bjumn7YMGHmM"
      },
      "source": [
        ""
      ]
    },
    {
      "cell_type": "markdown",
      "metadata": {
        "id": "NI294Lb96xTK"
      },
      "source": [
        "c) Proporcione una representación gráfica de la distribución del número de usuarios con un determinado número de valoraciones. ¿Cuáles son las principales conclusiones que se pueden sacar de este gráfico ?\n"
      ]
    },
    {
      "cell_type": "code",
      "metadata": {
        "id": "2D4UT5GU82zE",
        "colab": {
          "base_uri": "https://localhost:8080/",
          "height": 293
        },
        "outputId": "215a5e0f-d320-4865-e995-c0a6d3aa8612"
      },
      "source": [
        "import matplotlib.pyplot as plt\r\n",
        "import seaborn as sns\r\n",
        "import numpy as np\r\n",
        "import seaborn as sns\r\n",
        "\r\n",
        "for i, binwidth in enumerate([1, 5, 10, 15]):\r\n",
        "    \r\n",
        "    # Set up the plot\r\n",
        "    ax = plt.subplot(2, 2, i + 1)\r\n",
        "    \r\n",
        "    # Draw the plot\r\n",
        "    ax.hist(df_small['rating'], bins = int(180/binwidth),\r\n",
        "             color = 'blue', edgecolor = 'black')\r\n",
        "    \r\n",
        "    # Title and labels\r\n",
        "    ax.set_title('Histogram with Binwidth = %d' % binwidth, size = 10)\r\n",
        "    ax.set_xlabel('Delay (min)', size = 10)\r\n",
        "    ax.set_ylabel('Flights', size= 10)\r\n",
        "\r\n"
      ],
      "execution_count": 12,
      "outputs": [
        {
          "output_type": "display_data",
          "data": {
            "image/png": "[encoded data removed]",
            "text/plain": [
              "<Figure size 432x288 with 4 Axes>"
            ]
          },
          "metadata": {
            "tags": [],
            "needs_background": "light"
          }
        }
      ]
    },
    {
      "cell_type": "markdown",
      "metadata": {
        "id": "pMRtA2YoGIju"
      },
      "source": [
        ""
      ]
    },
    {
      "cell_type": "markdown",
      "metadata": {
        "id": "XKXoXUaY7CqK"
      },
      "source": [
        "## **Ejercicio 2: Diferentes formas de diseñar un sistema de recomendación**\n",
        "En este ejercicio estamos explorando diferentes formas de diseñar / entrenar un sistema de recomendación. A menos que se indique lo contrario, este ejercicio se realizará con el conjunto de datos reducido obtenido en el ejercicio anterior.\n"
      ]
    },
    {
      "cell_type": "markdown",
      "metadata": {
        "id": "ywLVjyYL7Vk_"
      },
      "source": [
        "\n",
        "a) Ajuste un recomendador de descomposición de valores singulares utilizando como datos de entrenamiento todo el conjunto de datos reducido. ¿Cuál es la tasa prevista de user_id = 46 del chiste con item_id = 44 ?. ¿Cuál es la discrepancia entre la qualificació prevista y la real? Evalúe el rendimiento de este enfoque utilizando RMSE, MAE y MSE como métricas de precisión.\n"
      ]
    },
    {
      "cell_type": "code",
      "metadata": {
        "id": "JQViGWVF7XUI",
        "colab": {
          "base_uri": "https://localhost:8080/"
        },
        "outputId": "af96f4fd-59ab-4569-feef-7e503881e294"
      },
      "source": [
        "# Build an algorithm, and train it.\r\n",
        "from surprise import SVD\r\n",
        "from surprise import KNNBasic\r\n",
        "from surprise import Dataset\r\n",
        "from surprise.model_selection import cross_validate\r\n",
        "\r\n",
        "# Load the movielens-100k dataset (download it if needed).\r\n",
        "\r\n",
        "trainset = data_small.build_full_trainset()\r\n",
        "\r\n",
        "# Use the famous SVD algorithm.\r\n",
        "mSVD = SVD()\r\n",
        "mSVD.fit(trainset)\r\n",
        "\r\n",
        "\r\n",
        "#mSVD.fit(df_small)\r\n",
        "# Run 5-fold cross-validation and print results.\r\n",
        "#cross_validate(mSVD, data, measures=['RMSE', 'MAE', \"MSE\"], cv=5, verbose=True)\r\n",
        "\r\n",
        "\r\n",
        "uid = str(46)  # raw user id (as in the ratings file). They are **strings**!\r\n",
        "iid = str(44)  # raw item id (as in the ratings file). They are **strings**!\r\n",
        "\r\n",
        "# get a prediction for specific users and items.\r\n",
        "pred = mSVD.predict(uid, iid, r_ui=4, verbose=True)\r\n",
        "print(\"Prediction for user \", pred.iid,\"is:\",round(pred.est))\r\n",
        "print(\"Real value is: \", pred.r_ui,\" Predicted:\",round(pred.est,3), \"Error:\", round(pred.r_ui-pred.est,3))\r\n"
      ],
      "execution_count": 11,
      "outputs": [
        {
          "output_type": "stream",
          "text": [
            "user: 46         item: 44         r_ui = 4.00   est = 6.56   {'was_impossible': False}\n",
            "Prediction for user  44 is: 7\n",
            "Real value is:  4  Predicted: 6.558 Error: -2.558\n"
          ],
          "name": "stdout"
        }
      ]
    },
    {
      "cell_type": "markdown",
      "metadata": {
        "id": "I2HDbqvqGJsy"
      },
      "source": [
        ""
      ]
    },
    {
      "cell_type": "markdown",
      "metadata": {
        "id": "hbdYrfyT7Xio"
      },
      "source": [
        "b) Ajuste el mismo recomendador pero ahora dividiendo los datos en subconjuntos de entrenamiento y prueba en tres proporciones diferentes (entrenamiento / prueba): 90/10, 75/25 y 10/90. Compare el RMSE, MAE y MSE promedio cuando utilice diferentes fracciones para los subconjuntos de entrenamiento y prueba. ¿Qué proporción produce mejores resultados de predicción? Justifica tu respuesta.\n"
      ]
    },
    {
      "cell_type": "code",
      "metadata": {
        "id": "N8Yz1zl37Zdg",
        "colab": {
          "base_uri": "https://localhost:8080/"
        },
        "outputId": "74437264-cc61-4619-cbc3-4ddd86e3ad40"
      },
      "source": [
        "from surprise import model_selection\r\n",
        "from surprise import SVD\r\n",
        "\r\n",
        "for size in [0.1, 0.25,0.9]:\r\n",
        "\r\n",
        "  trainset, testset = model_selection.train_test_split(data, test_size=size)\r\n",
        "\r\n",
        "  # We'll use the famous SVD algorithm.\r\n",
        "  mSVD = SVD()\r\n",
        "\r\n",
        "  # Train the algorithm on the trainset, and predict ratings for the testset\r\n",
        "  mSVD.fit(trainset)\r\n",
        "  predictions = mSVD.test(testset)\r\n",
        "\r\n",
        "  # Then compute RMSE\r\n",
        "  print(\"Accuracy measures SVD with (entrenamiento\",round((1-size)*100),\"% / prueba\",round(size*100),\"% ):\")\r\n",
        "  print(\"RMSE    = \" + str(\"{:10.3f}\".format(surprise.accuracy.rmse(predictions,verbose=False))))\r\n",
        "\r\n",
        "  print(\"MSE     = \" + str(\"{:10.3f}\".format(surprise.accuracy.mse(predictions,verbose=False))))\r\n",
        "\r\n",
        "  print(\"MAE     = \" + str(\"{:10.3f}\".format(surprise.accuracy.mae(predictions,verbose=False))))\r\n",
        "\r\n",
        "  print(\"FCP     = \" + str(\"{:10.3f}\".format(surprise.accuracy.fcp(predictions,verbose=False))))"
      ],
      "execution_count": 12,
      "outputs": [
        {
          "output_type": "stream",
          "text": [
            "Accuracy measures SVD with (entrenamiento 90 % / prueba 10 % ):\n",
            "RMSE    =      4.520\n",
            "MSE     =     20.428\n",
            "MAE     =      3.376\n",
            "FCP     =      0.561\n",
            "Accuracy measures SVD with (entrenamiento 75 % / prueba 25 % ):\n",
            "RMSE    =      4.476\n",
            "MSE     =     20.034\n",
            "MAE     =      3.358\n",
            "FCP     =      0.577\n",
            "Accuracy measures SVD with (entrenamiento 10 % / prueba 90 % ):\n",
            "RMSE    =      4.623\n",
            "MSE     =     21.375\n",
            "MAE     =      3.662\n",
            "FCP     =      0.584\n"
          ],
          "name": "stdout"
        }
      ]
    },
    {
      "cell_type": "markdown",
      "metadata": {
        "id": "4qU9RzUXGKjz"
      },
      "source": [
        ""
      ]
    },
    {
      "cell_type": "markdown",
      "metadata": {
        "id": "LDlHHyyM7Zm9"
      },
      "source": [
        "c) Ajuste y evalúe ahora el recomendador de SVD utilizando un procedimiento de validación cruzada de 5 veces (cv = 5). Compare los resultados medios con el rendimiento obtenido en los apartados anteriores. Explique las diferencias de forma razonada.\n"
      ]
    },
    {
      "cell_type": "code",
      "metadata": {
        "id": "D1YTGAp97bJc",
        "colab": {
          "base_uri": "https://localhost:8080/"
        },
        "outputId": "f553fd63-7861-4240-c4b0-8eeaeb4d4262"
      },
      "source": [
        "from surprise import model_selection\r\n",
        "from surprise import SVD\r\n",
        "mSVD = SVD()\r\n",
        "model_selection.cross_validate(mSVD, data,measures=['RMSE',\"MSE\", 'MAE'], cv=5)\r\n",
        "\r\n"
      ],
      "execution_count": 13,
      "outputs": [
        {
          "output_type": "execute_result",
          "data": {
            "text/plain": [
              "{'fit_time': (82.6424822807312,\n",
              "  82.868497133255,\n",
              "  83.33421087265015,\n",
              "  82.9361789226532,\n",
              "  82.61983728408813),\n",
              " 'test_mae': array([3.36771936, 3.36683015, 3.37640816, 3.36941315, 3.37103025]),\n",
              " 'test_mse': array([20.18973574, 20.17449942, 20.32784893, 20.20532821, 20.25909869]),\n",
              " 'test_rmse': array([4.49329898, 4.49160321, 4.50864158, 4.49503373, 4.50101085]),\n",
              " 'test_time': (5.018828868865967,\n",
              "  5.048227787017822,\n",
              "  3.418773651123047,\n",
              "  4.979236602783203,\n",
              "  4.794638395309448)}"
            ]
          },
          "metadata": {
            "tags": []
          },
          "execution_count": 13
        }
      ]
    },
    {
      "cell_type": "markdown",
      "metadata": {
        "id": "wFmQ4FDSGLVX"
      },
      "source": [
        ""
      ]
    },
    {
      "cell_type": "markdown",
      "metadata": {
        "id": "ERCyqH-C7bfW"
      },
      "source": [
        "d) Use una validación cruzada de 5 veces para comparar el desempeño de las versiones sesgadas e imparciales del recomendador de SVD descrito en https://surprise.readthedocs.io/en/stable/matrix_factorization.html#surprise.prediction_algorithms.matrix_factorization. SVD. ¿Qué método proporciona una mejor precisión de predicción? ¿Por qué?\n"
      ]
    },
    {
      "cell_type": "code",
      "metadata": {
        "id": "VDlFjFOp7c2Z",
        "colab": {
          "base_uri": "https://localhost:8080/"
        },
        "outputId": "98dbc0e8-a90f-48bf-fe1b-a7999278a9fb"
      },
      "source": [
        "\r\n",
        "mSVD=SVD(biased=True)\r\n",
        "model_selection.cross_validate(mSVD, data,measures=['RMSE',\"MSE\", 'MAE'], cv=5)\r\n",
        "\r\n",
        "mSVD=SVD(biased=False)\r\n",
        "model_selection.cross_validate(mSVD, data,measures=['RMSE',\"MSE\", 'MAE'], cv=5)\r\n"
      ],
      "execution_count": 50,
      "outputs": [
        {
          "output_type": "execute_result",
          "data": {
            "text/plain": [
              "{'fit_time': (4.963589906692505,\n",
              "  5.047118663787842,\n",
              "  4.903257846832275,\n",
              "  4.9221813678741455,\n",
              "  5.320152521133423),\n",
              " 'test_mae': array([0.73515622, 0.73885067, 0.73872665, 0.74153071, 0.74269779]),\n",
              " 'test_mse': array([0.87073257, 0.87873927, 0.87950833, 0.88662983, 0.88128805]),\n",
              " 'test_rmse': array([0.93313052, 0.93741094, 0.93782105, 0.94161023, 0.93876943]),\n",
              " 'test_time': (0.18441510200500488,\n",
              "  0.17510223388671875,\n",
              "  0.18646764755249023,\n",
              "  0.17888474464416504,\n",
              "  0.190568208694458)}"
            ]
          },
          "metadata": {
            "tags": []
          },
          "execution_count": 50
        }
      ]
    },
    {
      "cell_type": "markdown",
      "metadata": {
        "id": "8mAE6x1oGL8R"
      },
      "source": [
        ""
      ]
    },
    {
      "cell_type": "markdown",
      "metadata": {
        "id": "F1t0U-O-7dJo"
      },
      "source": [
        "e) Confirme la comparación entre los algoritmos SVD sesgados e insesgados realizando una validación cruzada de búsqueda de cuadrícula https://surprise.readthedocs.io/en/stable/getting_started.html#tune-algorithm-parameters-with-gridsearchcv"
      ]
    },
    {
      "cell_type": "code",
      "metadata": {
        "id": "0XnpIrlSGkMG",
        "colab": {
          "base_uri": "https://localhost:8080/"
        },
        "outputId": "946d0695-a981-435b-c941-d77574182633"
      },
      "source": [
        "from surprise import SVD\r\n",
        "from surprise.model_selection import GridSearchCV\r\n",
        "\r\n",
        "param_grid = {'n_factors': [1, 5, 10,20,50],\r\n",
        "              'n_epochs': [5, 10], \r\n",
        "              'lr_all': [0.001,0.0025, 0.005],\r\n",
        "              'reg_all': [0.4, 0.6]}\r\n",
        "gs = GridSearchCV(SVD, param_grid, measures=['rmse', 'mae',\"mse\"], cv=3)\r\n",
        "\r\n",
        "gs.fit(data)\r\n",
        "\r\n",
        "# best RMSE score\r\n",
        "print(gs.best_score)\r\n",
        "\r\n",
        "# combination of parameters that gave the best RMSE score\r\n",
        "print(gs.best_params)"
      ],
      "execution_count": 40,
      "outputs": [
        {
          "output_type": "stream",
          "text": [
            "{'rmse': 4.4734109450843595, 'mae': 3.598575906000919, 'mse': 20.032052045371103}\n",
            "{'rmse': {'n_factors': 50, 'n_epochs': 10, 'lr_all': 0.005, 'reg_all': 0.4}, 'mae': {'n_factors': 50, 'n_epochs': 10, 'lr_all': 0.005, 'reg_all': 0.4}, 'mse': {'n_factors': 50, 'n_epochs': 10, 'lr_all': 0.005, 'reg_all': 0.4}}\n"
          ],
          "name": "stdout"
        }
      ]
    },
    {
      "cell_type": "markdown",
      "metadata": {
        "id": "LxjLyuhd8E9d"
      },
      "source": [
        "## **Ejercicio 3: Comparar algoritmos de agrupamiento con datos sintéticos**\n",
        "En esta sección, comparará dos de los algoritmos de agrupación en clúster más comunes que utilizan datos generados sintéticamente.\n",
        "\n"
      ]
    },
    {
      "cell_type": "markdown",
      "metadata": {
        "id": "WStGP4yB8Ii-"
      },
      "source": [
        "a) Utilice la función make_blobs de la biblioteca sklearn para generar 1500 observaciones bidimensionales distribuidas equitativamente en tres grupos centrados en las posiciones (0,0), (4,4) y (6,6). La descripción de la función se puede encontrar aquí:\n",
        "https://scikit-learn.org/stable/modules/generated/sklearn.datasets.make_blobs.html\n"
      ]
    },
    {
      "cell_type": "code",
      "metadata": {
        "id": "UeOcS8ZT8KPF",
        "colab": {
          "base_uri": "https://localhost:8080/",
          "height": 539
        },
        "outputId": "38946497-6333-4bb5-9d77-9d3ed46c0f3a"
      },
      "source": [
        "from sklearn import datasets\r\n",
        "import pandas as pd\r\n",
        "from matplotlib import pyplot\r\n",
        "\r\n",
        "X, y = datasets.make_blobs(n_samples=1500, centers=[[0,0],[4,4],[6,6]], n_features=2, random_state=0)\r\n",
        "print(X[1:5,0])\r\n",
        "df = pd.DataFrame(dict(x=X[:,0], y=X[:,1], label=y))\r\n",
        "print(df.head)\r\n",
        "colors = {0:'deepskyblue', 1:'crimson', 2:'green'}\r\n",
        "fig, ax = pyplot.subplots()\r\n",
        "grouped = df.groupby('label')\r\n",
        "for key, group in grouped:\r\n",
        "    group.plot(ax=ax, kind='scatter', x='x', y='y', label=key, color=colors[key])\r\n",
        "pyplot.show()\r\n",
        "\r\n",
        "\r\n"
      ],
      "execution_count": 24,
      "outputs": [
        {
          "output_type": "stream",
          "text": [
            "[6.82612571 4.4595849  0.47043314 0.44819528]\n",
            "<bound method NDFrame.head of              x         y  label\n",
            "0     5.712305  3.207885      1\n",
            "1     6.826126  5.942243      2\n",
            "2     4.459585  4.280058      1\n",
            "3     0.470433  0.311447      0\n",
            "4     0.448195  1.696182      0\n",
            "...        ...       ...    ...\n",
            "1495 -0.652294 -0.521189      0\n",
            "1496 -0.035768  2.380745      0\n",
            "1497 -0.908763 -0.424318      0\n",
            "1498  3.960732  3.051067      1\n",
            "1499 -0.028182  0.428332      0\n",
            "\n",
            "[1500 rows x 3 columns]>\n"
          ],
          "name": "stdout"
        },
        {
          "output_type": "display_data",
          "data": {
            "image/png": "[encoded data removed]",
            "text/plain": [
              "<Figure size 432x288 with 1 Axes>"
            ]
          },
          "metadata": {
            "tags": [],
            "needs_background": "light"
          }
        }
      ]
    },
    {
      "cell_type": "markdown",
      "metadata": {
        "id": "S7GZ6M8S8KYy"
      },
      "source": [
        "b) Agrupar los datos usando un algoritmo de k-medias con k = 3 y un método de agrupamiento jerárquico / aglomerativo con tres grupos. Represente gráficamente los resultados con diagramas de dispersión usando diferentes colores para cada uno de los grupos identificados por los dos métodos. Compare los resultados de la agrupación en clústeres. ¿Qué método es mejor cuando el verdadero centroide de los grupos se acerca?\n"
      ]
    },
    {
      "cell_type": "code",
      "metadata": {
        "id": "C-vhvEux8Lib",
        "colab": {
          "base_uri": "https://localhost:8080/",
          "height": 591
        },
        "outputId": "f8840c31-44b9-47e6-fde9-48ab0974adc4"
      },
      "source": [
        "from scipy.cluster.hierarchy import dendrogram, linkage\r\n",
        "from sklearn.cluster import KMeans\r\n",
        "from sklearn.cluster import SpectralClustering\r\n",
        "from sklearn.metrics import confusion_matrix\r\n",
        "from sklearn.cluster import SpectralClustering\r\n",
        "##K-means\r\n",
        "\r\n",
        "kmeans = KMeans(n_clusters=3, random_state=0).fit(X)\r\n",
        "spectralMeans = SpectralClustering(n_clusters=3, assign_labels=\"discretize\", random_state=0).fit(X)\r\n",
        "spectralMeans.labels_\r\n",
        "\r\n",
        "\r\n",
        "print(kmeans.labels_[0:10])\r\n",
        "\r\n",
        "df[\"kmeans\"],df[\"spectralMeans\"] = kmeans.labels_ , spectralMeans.labels_\r\n",
        "print(df.head)\r\n",
        "colors = {0:'gold', 1:'lightcoral', 2:'tab:cyan'}\r\n",
        "fig, ax = pyplot.subplots()\r\n",
        "grouped = df.groupby('kmeans')\r\n",
        "for key, group in grouped:\r\n",
        "    group.plot(ax=ax, kind='scatter', x='x', y='y', label=key, color=colors[key])\r\n",
        "pyplot.show()\r\n",
        "\r\n",
        "confusion_matrix(y,kmeans.labels_)\r\n"
      ],
      "execution_count": 21,
      "outputs": [
        {
          "output_type": "stream",
          "text": [
            "[2 0 2 1 1 1 0 1 1 0]\n",
            "<bound method NDFrame.head of              x         y  label  kmeans  spectralMeans\n",
            "0     5.712305  3.207885      1       2              0\n",
            "1     6.826126  5.942243      2       0              1\n",
            "2     4.459585  4.280058      1       2              0\n",
            "3     0.470433  0.311447      0       1              2\n",
            "4     0.448195  1.696182      0       1              2\n",
            "...        ...       ...    ...     ...            ...\n",
            "1495 -0.652294 -0.521189      0       1              2\n",
            "1496 -0.035768  2.380745      0       1              2\n",
            "1497 -0.908763 -0.424318      0       1              2\n",
            "1498  3.960732  3.051067      1       2              0\n",
            "1499 -0.028182  0.428332      0       1              2\n",
            "\n",
            "[1500 rows x 5 columns]>\n"
          ],
          "name": "stdout"
        },
        {
          "output_type": "display_data",
          "data": {
            "image/png": "[encoded data removed]",
            "text/plain": [
              "<Figure size 432x288 with 1 Axes>"
            ]
          },
          "metadata": {
            "tags": [],
            "needs_background": "light"
          }
        },
        {
          "output_type": "execute_result",
          "data": {
            "text/plain": [
              "array([[  0, 500,   0],\n",
              "       [ 28,   0, 472],\n",
              "       [458,   0,  42]])"
            ]
          },
          "metadata": {
            "tags": []
          },
          "execution_count": 21
        }
      ]
    },
    {
      "cell_type": "markdown",
      "metadata": {
        "id": "aCIQw1ZJGNKV"
      },
      "source": [
        ""
      ]
    },
    {
      "cell_type": "markdown",
      "metadata": {
        "id": "CTH9gqO-8Lqm"
      },
      "source": [
        "c) Repita las tareas de las dos secciones anteriores, pero ahora genere las observaciones con las siguientes varianzas desiguales: 1, 2.5 y 0.5 respectivamente. Comente los resultados."
      ]
    },
    {
      "cell_type": "code",
      "metadata": {
        "id": "LECZVnpe8MJM",
        "colab": {
          "base_uri": "https://localhost:8080/",
          "height": 539
        },
        "outputId": "15a822dd-8932-474f-e80b-08640cd53dd2"
      },
      "source": [
        "from sklearn import datasets\r\n",
        "import pandas as pd\r\n",
        "from matplotlib import pyplot\r\n",
        "\r\n",
        "X, y = datasets.make_blobs(n_samples=1500, centers=[[0,0],[4,4],[6,6]],cluster_std=[1,2.5,0.5], n_features=2, random_state=0)\r\n",
        "print(X[1:5,0])\r\n",
        "df = pd.DataFrame(dict(x=X[:,0], y=X[:,1], label=y))\r\n",
        "print(df.head)\r\n",
        "colors = {0:'deepskyblue', 1:'crimson', 2:'blueviolet'}\r\n",
        "fig, ax = pyplot.subplots()\r\n",
        "grouped = df.groupby('label')\r\n",
        "for key, group in grouped:\r\n",
        "    group.plot(ax=ax, kind='scatter', x='x', y='y', label=key, color=colors[key])\r\n",
        "pyplot.show()"
      ],
      "execution_count": 27,
      "outputs": [
        {
          "output_type": "stream",
          "text": [
            "[6.41306285 5.14896226 0.47043314 0.44819528]\n",
            "<bound method NDFrame.head of              x         y  label\n",
            "0     8.280763  2.019712      1\n",
            "1     6.413063  5.971122      2\n",
            "2     5.148962  4.700145      1\n",
            "3     0.470433  0.311447      0\n",
            "4     0.448195  1.696182      0\n",
            "...        ...       ...    ...\n",
            "1495 -0.652294 -0.521189      0\n",
            "1496 -0.035768  2.380745      0\n",
            "1497 -0.908763 -0.424318      0\n",
            "1498  3.901830  1.627668      1\n",
            "1499 -0.028182  0.428332      0\n",
            "\n",
            "[1500 rows x 3 columns]>\n"
          ],
          "name": "stdout"
        },
        {
          "output_type": "display_data",
          "data": {
            "image/png": "[encoded data removed]",
            "text/plain": [
              "<Figure size 432x288 with 1 Axes>"
            ]
          },
          "metadata": {
            "tags": [],
            "needs_background": "light"
          }
        }
      ]
    },
    {
      "cell_type": "markdown",
      "metadata": {
        "id": "4HzxLBJXGNr4"
      },
      "source": [
        ""
      ]
    },
    {
      "cell_type": "code",
      "metadata": {
        "id": "f6xPPdsw8Vg9",
        "outputId": "252f6b33-a860-4057-e2a1-136af3b93c39",
        "colab": {
          "base_uri": "https://localhost:8080/",
          "height": 591
        }
      },
      "source": [
        "from scipy.cluster.hierarchy import dendrogram, linkage\r\n",
        "from sklearn.cluster import KMeans\r\n",
        "from sklearn.cluster import SpectralClustering\r\n",
        "from sklearn.metrics import confusion_matrix\r\n",
        "from sklearn.cluster import SpectralClustering\r\n",
        "##K-means\r\n",
        "\r\n",
        "kmeans = KMeans(n_clusters=3, random_state=0).fit(X)\r\n",
        "spectralMeans = SpectralClustering(n_clusters=3, assign_labels=\"discretize\", random_state=0).fit(X)\r\n",
        "spectralMeans.labels_\r\n",
        "\r\n",
        "\r\n",
        "print(kmeans.labels_[0:10])\r\n",
        "\r\n",
        "df[\"kmeans\"],df[\"spectralMeans\"] = kmeans.labels_ , spectralMeans.labels_\r\n",
        "print(df.head)\r\n",
        "colors = {0:'gold', 1:'lightcoral', 2:'tab:cyan'}\r\n",
        "fig, ax = pyplot.subplots()\r\n",
        "grouped = df.groupby('kmeans')\r\n",
        "\r\n",
        "fig, axes = plt.subplots(nrows=1, ncols=2, figsize=(5, 3))\r\n",
        "axes[0].plot(x1, y1)\r\n",
        "axes[1].plot(x2, y2)\r\n",
        "fig.tight_layout()\r\n",
        "\r\n",
        "for key, group in grouped:\r\n",
        "    group.plot(ax=ax, kind='scatter', x='x', y='y', label=key, color=colors[key])\r\n",
        "pyplot.show()\r\n",
        "\r\n",
        "confusion_matrix(y,kmeans.labels_)"
      ],
      "execution_count": 28,
      "outputs": [
        {
          "output_type": "stream",
          "text": [
            "[2 0 0 1 1 1 0 1 1 0]\n",
            "<bound method NDFrame.head of              x         y  label  kmeans  spectralMeans\n",
            "0     8.280763  2.019712      1       2              0\n",
            "1     6.413063  5.971122      2       0              0\n",
            "2     5.148962  4.700145      1       0              0\n",
            "3     0.470433  0.311447      0       1              2\n",
            "4     0.448195  1.696182      0       1              2\n",
            "...        ...       ...    ...     ...            ...\n",
            "1495 -0.652294 -0.521189      0       1              2\n",
            "1496 -0.035768  2.380745      0       1              2\n",
            "1497 -0.908763 -0.424318      0       1              2\n",
            "1498  3.901830  1.627668      1       2              2\n",
            "1499 -0.028182  0.428332      0       1              2\n",
            "\n",
            "[1500 rows x 5 columns]>\n"
          ],
          "name": "stdout"
        },
        {
          "output_type": "display_data",
          "data": {
            "image/png": "[encoded data removed]",
            "text/plain": [
              "<Figure size 432x288 with 1 Axes>"
            ]
          },
          "metadata": {
            "tags": [],
            "needs_background": "light"
          }
        },
        {
          "output_type": "execute_result",
          "data": {
            "text/plain": [
              "array([[  0, 498,   2],\n",
              "       [198,  52, 250],\n",
              "       [500,   0,   0]])"
            ]
          },
          "metadata": {
            "tags": []
          },
          "execution_count": 28
        }
      ]
    }
  ]
}